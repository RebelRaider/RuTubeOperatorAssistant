{
 "cells": [
  {
   "cell_type": "code",
   "execution_count": 1,
   "metadata": {},
   "outputs": [],
   "source": [
    "from clickhouserag.data_access.clickhouse_client import ClickhouseConnectClient\n",
    "\n",
    "client = ClickhouseConnectClient(\n",
    "    host=\"localhost\",\n",
    "    port=9000,\n",
    "    username=\"assistantRAG\",\n",
    "    password=\"safety_password\",\n",
    "    database=\"assistantdb\"\n",
    ")\n",
    "client.connect()"
   ]
  },
  {
   "cell_type": "code",
   "execution_count": 2,
   "metadata": {},
   "outputs": [],
   "source": [
    "table_schema = {\n",
    "    \"id\": \"UInt32\",\n",
    "    \"text\": \"String\",\n",
    "    \"chunk\": \"String\",\n",
    "    \"vector\": \"Array(Float64)\"\n",
    "}"
   ]
  },
  {
   "cell_type": "code",
   "execution_count": 3,
   "metadata": {},
   "outputs": [],
   "source": [
    "from clickhouserag.rag.manager import RAGManager\n",
    "\n",
    "rag_manager = RAGManager(client, \"rag_table\", table_schema, engine=\"MergeTree\", order_by=\"id\")\n"
   ]
  },
  {
   "cell_type": "code",
   "execution_count": 4,
   "metadata": {},
   "outputs": [
    {
     "name": "stderr",
     "output_type": "stream",
     "text": [
      "/home/rebelraider/.cache/pypoetry/virtualenvs/assistant-YmmMni6z-py3.12/lib/python3.12/site-packages/tqdm/auto.py:21: TqdmWarning: IProgress not found. Please update jupyter and ipywidgets. See https://ipywidgets.readthedocs.io/en/stable/user_install.html\n",
      "  from .autonotebook import tqdm as notebook_tqdm\n"
     ]
    }
   ],
   "source": [
    "from typing import Any, List\n",
    "import torch\n",
    "from transformers import AutoModel, AutoTokenizer\n",
    "from clickhouserag.vectorizers.base import VectorizerBase\n",
    "\n",
    "class TransformersVectorizer(VectorizerBase):\n",
    "    \"\"\"Vectorizer that uses a Transformers model to convert text to vectors.\"\"\"\n",
    "    \n",
    "    def __init__(self, model_name: str) -> None:\n",
    "        \"\"\"Initialize the TransformersVectorizer.\"\"\"\n",
    "        self.tokenizer = AutoTokenizer.from_pretrained(model_name)\n",
    "        self.model = AutoModel.from_pretrained(model_name)\n",
    "    \n",
    "    def vectorize(self, data: Any) -> List[float]:\n",
    "        \"\"\"Convert text data into a vector representation using a Transformers model.\"\"\"\n",
    "        if not isinstance(data, str):\n",
    "            raise ValueError(\"Data should be a string for text vectorization.\")\n",
    "        \n",
    "        inputs = self.tokenizer(data, return_tensors=\"pt\", truncation=True, padding=True)\n",
    "        with torch.no_grad():\n",
    "            outputs = self.model(**inputs)\n",
    "            vector = outputs.last_hidden_state.mean(dim=1).squeeze().tolist()\n",
    "        \n",
    "        return vector\n",
    "\n",
    "    def bulk_vectorize(self, data: Any) -> List[List[float]]:\n",
    "        \"\"\"Convert listed text data into a vector representation using a Transformers model.\"\"\"\n",
    "\n",
    "        if not isinstance(data, List[str]):\n",
    "            raise ValueError(\"Data should be a list of a strings for text vectorization.\")\n",
    "\n",
    "        inputs = self.tokenizer(\n",
    "            data, return_tensors=\"pt\", truncation=True, padding=True\n",
    "        )\n",
    "        with torch.no_grad():\n",
    "            outputs = self.model(**inputs)\n",
    "            vector = outputs.last_hidden_state.mean(dim=1).squeeze().tolist()\n",
    "\n",
    "        return vector\n",
    "\n",
    "transformers_vectorizer = TransformersVectorizer(model_name=\"ai-forever/sbert_large_nlu_ru\")\n",
    "rag_manager.add_vectorizer(\"transformers\", transformers_vectorizer)"
   ]
  },
  {
   "cell_type": "code",
   "execution_count": 5,
   "metadata": {},
   "outputs": [
    {
     "name": "stderr",
     "output_type": "stream",
     "text": [
      "Asking to truncate to max_length but no maximum length is provided and the model has no predefined maximum length. Default to no truncation.\n",
      "Failed to insert values into rag_table: 'text'\n",
      "Failed to add bulk data: Failed to insert values into rag_table\n"
     ]
    },
    {
     "ename": "RuntimeError",
     "evalue": "Failed to add bulk data",
     "output_type": "error",
     "traceback": [
      "\u001b[0;31m---------------------------------------------------------------------------\u001b[0m",
      "\u001b[0;31mKeyError\u001b[0m                                  Traceback (most recent call last)",
      "File \u001b[0;32m~/.cache/pypoetry/virtualenvs/assistant-YmmMni6z-py3.12/lib/python3.12/site-packages/clickhouserag/data_access/clickhouse_table.py:29\u001b[0m, in \u001b[0;36mClickhouseTableManager.insert\u001b[0;34m(self, values)\u001b[0m\n\u001b[1;32m     28\u001b[0m \u001b[38;5;28;01mtry\u001b[39;00m:\n\u001b[0;32m---> 29\u001b[0m     \u001b[38;5;28;43mself\u001b[39;49m\u001b[38;5;241;43m.\u001b[39;49m\u001b[43mclient\u001b[49m\u001b[38;5;241;43m.\u001b[39;49m\u001b[43mexecute_query\u001b[49m\u001b[43m(\u001b[49m\u001b[43mquery\u001b[49m\u001b[43m,\u001b[49m\u001b[43m \u001b[49m\u001b[43mvalues\u001b[49m\u001b[43m)\u001b[49m\n\u001b[1;32m     30\u001b[0m     \u001b[38;5;28mself\u001b[39m\u001b[38;5;241m.\u001b[39mlogger\u001b[38;5;241m.\u001b[39minfo(\u001b[38;5;124mf\u001b[39m\u001b[38;5;124m\"\u001b[39m\u001b[38;5;124mInserted values into \u001b[39m\u001b[38;5;132;01m{\u001b[39;00m\u001b[38;5;28mself\u001b[39m\u001b[38;5;241m.\u001b[39mtable_name\u001b[38;5;132;01m}\u001b[39;00m\u001b[38;5;124m\"\u001b[39m)\n",
      "File \u001b[0;32m~/.cache/pypoetry/virtualenvs/assistant-YmmMni6z-py3.12/lib/python3.12/site-packages/clickhouserag/data_access/clickhouse_client.py:74\u001b[0m, in \u001b[0;36mClickhouseConnectClient.execute_query\u001b[0;34m(self, query, params)\u001b[0m\n\u001b[1;32m     73\u001b[0m \u001b[38;5;250m\u001b[39m\u001b[38;5;124;03m\"\"\"Execute a query in the Clickhouse database.\"\"\"\u001b[39;00m\n\u001b[0;32m---> 74\u001b[0m \u001b[38;5;28;01mreturn\u001b[39;00m \u001b[38;5;28;43mself\u001b[39;49m\u001b[38;5;241;43m.\u001b[39;49m\u001b[43m_execute\u001b[49m\u001b[43m(\u001b[49m\u001b[43mquery\u001b[49m\u001b[43m,\u001b[49m\u001b[43m \u001b[49m\u001b[43mparams\u001b[49m\u001b[43m)\u001b[49m\n",
      "File \u001b[0;32m~/.cache/pypoetry/virtualenvs/assistant-YmmMni6z-py3.12/lib/python3.12/site-packages/clickhouserag/data_access/clickhouse_client.py:17\u001b[0m, in \u001b[0;36mensure_connection.<locals>.wrapper\u001b[0;34m(self, *args, **kwargs)\u001b[0m\n\u001b[1;32m     16\u001b[0m     \u001b[38;5;28;01mraise\u001b[39;00m \u001b[38;5;167;01mConnectionError\u001b[39;00m(\u001b[38;5;124m\"\u001b[39m\u001b[38;5;124mClient is not connected. Call `connect` first.\u001b[39m\u001b[38;5;124m\"\u001b[39m)\n\u001b[0;32m---> 17\u001b[0m \u001b[38;5;28;01mreturn\u001b[39;00m \u001b[43mmethod\u001b[49m\u001b[43m(\u001b[49m\u001b[38;5;28;43mself\u001b[39;49m\u001b[43m,\u001b[49m\u001b[43m \u001b[49m\u001b[38;5;241;43m*\u001b[39;49m\u001b[43margs\u001b[49m\u001b[43m,\u001b[49m\u001b[43m \u001b[49m\u001b[38;5;241;43m*\u001b[39;49m\u001b[38;5;241;43m*\u001b[39;49m\u001b[43mkwargs\u001b[49m\u001b[43m)\u001b[49m\n",
      "File \u001b[0;32m~/.cache/pypoetry/virtualenvs/assistant-YmmMni6z-py3.12/lib/python3.12/site-packages/clickhouserag/data_access/clickhouse_client.py:66\u001b[0m, in \u001b[0;36mClickhouseConnectClient._execute\u001b[0;34m(self, query, params)\u001b[0m\n\u001b[1;32m     65\u001b[0m \u001b[38;5;28;01mif\u001b[39;00m params:\n\u001b[0;32m---> 66\u001b[0m     \u001b[38;5;28;01mreturn\u001b[39;00m \u001b[38;5;28;43mself\u001b[39;49m\u001b[38;5;241;43m.\u001b[39;49m\u001b[43mclient\u001b[49m\u001b[38;5;241;43m.\u001b[39;49m\u001b[43mexecute\u001b[49m\u001b[43m(\u001b[49m\u001b[43mquery\u001b[49m\u001b[43m,\u001b[49m\u001b[43m \u001b[49m\u001b[43mparams\u001b[49m\u001b[43m)\u001b[49m\n\u001b[1;32m     67\u001b[0m \u001b[38;5;28;01mreturn\u001b[39;00m \u001b[38;5;28mself\u001b[39m\u001b[38;5;241m.\u001b[39mclient\u001b[38;5;241m.\u001b[39mexecute(query)\n",
      "File \u001b[0;32m~/.cache/pypoetry/virtualenvs/assistant-YmmMni6z-py3.12/lib/python3.12/site-packages/clickhouse_driver/client.py:376\u001b[0m, in \u001b[0;36mClient.execute\u001b[0;34m(self, query, params, with_column_types, external_tables, query_id, settings, types_check, columnar)\u001b[0m\n\u001b[1;32m    375\u001b[0m \u001b[38;5;28;01mif\u001b[39;00m is_insert:\n\u001b[0;32m--> 376\u001b[0m     rv \u001b[38;5;241m=\u001b[39m \u001b[38;5;28;43mself\u001b[39;49m\u001b[38;5;241;43m.\u001b[39;49m\u001b[43mprocess_insert_query\u001b[49m\u001b[43m(\u001b[49m\n\u001b[1;32m    377\u001b[0m \u001b[43m        \u001b[49m\u001b[43mquery\u001b[49m\u001b[43m,\u001b[49m\u001b[43m \u001b[49m\u001b[43mparams\u001b[49m\u001b[43m,\u001b[49m\u001b[43m \u001b[49m\u001b[43mexternal_tables\u001b[49m\u001b[38;5;241;43m=\u001b[39;49m\u001b[43mexternal_tables\u001b[49m\u001b[43m,\u001b[49m\n\u001b[1;32m    378\u001b[0m \u001b[43m        \u001b[49m\u001b[43mquery_id\u001b[49m\u001b[38;5;241;43m=\u001b[39;49m\u001b[43mquery_id\u001b[49m\u001b[43m,\u001b[49m\u001b[43m \u001b[49m\u001b[43mtypes_check\u001b[49m\u001b[38;5;241;43m=\u001b[39;49m\u001b[43mtypes_check\u001b[49m\u001b[43m,\u001b[49m\n\u001b[1;32m    379\u001b[0m \u001b[43m        \u001b[49m\u001b[43mcolumnar\u001b[49m\u001b[38;5;241;43m=\u001b[39;49m\u001b[43mcolumnar\u001b[49m\n\u001b[1;32m    380\u001b[0m \u001b[43m    \u001b[49m\u001b[43m)\u001b[49m\n\u001b[1;32m    381\u001b[0m \u001b[38;5;28;01melse\u001b[39;00m:\n",
      "File \u001b[0;32m~/.cache/pypoetry/virtualenvs/assistant-YmmMni6z-py3.12/lib/python3.12/site-packages/clickhouse_driver/client.py:607\u001b[0m, in \u001b[0;36mClient.process_insert_query\u001b[0;34m(self, query_without_data, data, external_tables, query_id, types_check, columnar)\u001b[0m\n\u001b[1;32m    606\u001b[0m \u001b[38;5;28;01mif\u001b[39;00m sample_block:\n\u001b[0;32m--> 607\u001b[0m     rv \u001b[38;5;241m=\u001b[39m \u001b[38;5;28;43mself\u001b[39;49m\u001b[38;5;241;43m.\u001b[39;49m\u001b[43msend_data\u001b[49m\u001b[43m(\u001b[49m\u001b[43msample_block\u001b[49m\u001b[43m,\u001b[49m\u001b[43m \u001b[49m\u001b[43mdata\u001b[49m\u001b[43m,\u001b[49m\n\u001b[1;32m    608\u001b[0m \u001b[43m                        \u001b[49m\u001b[43mtypes_check\u001b[49m\u001b[38;5;241;43m=\u001b[39;49m\u001b[43mtypes_check\u001b[49m\u001b[43m,\u001b[49m\u001b[43m \u001b[49m\u001b[43mcolumnar\u001b[49m\u001b[38;5;241;43m=\u001b[39;49m\u001b[43mcolumnar\u001b[49m\u001b[43m)\u001b[49m\n\u001b[1;32m    609\u001b[0m     \u001b[38;5;28mself\u001b[39m\u001b[38;5;241m.\u001b[39mreceive_end_of_insert_query()\n",
      "File \u001b[0;32m~/.cache/pypoetry/virtualenvs/assistant-YmmMni6z-py3.12/lib/python3.12/site-packages/clickhouse_driver/client.py:658\u001b[0m, in \u001b[0;36mClient.send_data\u001b[0;34m(self, sample_block, data, types_check, columnar)\u001b[0m\n\u001b[1;32m    657\u001b[0m \u001b[38;5;28;01mfor\u001b[39;00m chunk \u001b[38;5;129;01min\u001b[39;00m slicer(data, client_settings[\u001b[38;5;124m'\u001b[39m\u001b[38;5;124minsert_block_size\u001b[39m\u001b[38;5;124m'\u001b[39m]):\n\u001b[0;32m--> 658\u001b[0m     block \u001b[38;5;241m=\u001b[39m \u001b[43mblock_cls\u001b[49m\u001b[43m(\u001b[49m\u001b[43msample_block\u001b[49m\u001b[38;5;241;43m.\u001b[39;49m\u001b[43mcolumns_with_types\u001b[49m\u001b[43m,\u001b[49m\u001b[43m \u001b[49m\u001b[43mchunk\u001b[49m\u001b[43m,\u001b[49m\n\u001b[1;32m    659\u001b[0m \u001b[43m                      \u001b[49m\u001b[43mtypes_check\u001b[49m\u001b[38;5;241;43m=\u001b[39;49m\u001b[43mtypes_check\u001b[49m\u001b[43m)\u001b[49m\n\u001b[1;32m    660\u001b[0m     \u001b[38;5;28mself\u001b[39m\u001b[38;5;241m.\u001b[39mconnection\u001b[38;5;241m.\u001b[39msend_data(block)\n",
      "File \u001b[0;32m~/.cache/pypoetry/virtualenvs/assistant-YmmMni6z-py3.12/lib/python3.12/site-packages/clickhouse_driver/block.py:40\u001b[0m, in \u001b[0;36mBaseBlock.__init__\u001b[0;34m(self, columns_with_types, data, info, types_check)\u001b[0m\n\u001b[1;32m     39\u001b[0m \u001b[38;5;28mself\u001b[39m\u001b[38;5;241m.\u001b[39minfo \u001b[38;5;241m=\u001b[39m info \u001b[38;5;129;01mor\u001b[39;00m BlockInfo()\n\u001b[0;32m---> 40\u001b[0m \u001b[38;5;28mself\u001b[39m\u001b[38;5;241m.\u001b[39mdata \u001b[38;5;241m=\u001b[39m \u001b[38;5;28;43mself\u001b[39;49m\u001b[38;5;241;43m.\u001b[39;49m\u001b[43mnormalize\u001b[49m\u001b[43m(\u001b[49m\u001b[43mdata\u001b[49m\u001b[43m \u001b[49m\u001b[38;5;129;43;01mor\u001b[39;49;00m\u001b[43m \u001b[49m\u001b[43m[\u001b[49m\u001b[43m]\u001b[49m\u001b[43m)\u001b[49m\n\u001b[1;32m     42\u001b[0m \u001b[38;5;28msuper\u001b[39m(BaseBlock, \u001b[38;5;28mself\u001b[39m)\u001b[38;5;241m.\u001b[39m\u001b[38;5;21m__init__\u001b[39m()\n",
      "File \u001b[0;32m~/.cache/pypoetry/virtualenvs/assistant-YmmMni6z-py3.12/lib/python3.12/site-packages/clickhouse_driver/block.py:128\u001b[0m, in \u001b[0;36mRowOrientedBlock.normalize\u001b[0;34m(self, data)\u001b[0m\n\u001b[1;32m    127\u001b[0m \u001b[38;5;28;01mif\u001b[39;00m \u001b[38;5;28misinstance\u001b[39m(first_row, \u001b[38;5;28mdict\u001b[39m):\n\u001b[0;32m--> 128\u001b[0m     \u001b[38;5;28;43mself\u001b[39;49m\u001b[38;5;241;43m.\u001b[39;49m\u001b[43m_mutate_dicts_to_rows\u001b[49m\u001b[43m(\u001b[49m\u001b[43mdata\u001b[49m\u001b[43m)\u001b[49m\n\u001b[1;32m    129\u001b[0m \u001b[38;5;28;01melse\u001b[39;00m:\n",
      "File \u001b[0;32m~/.cache/pypoetry/virtualenvs/assistant-YmmMni6z-py3.12/lib/python3.12/site-packages/clickhouse_driver/block.py:159\u001b[0m, in \u001b[0;36mRowOrientedBlock._mutate_dicts_to_rows\u001b[0;34m(self, data)\u001b[0m\n\u001b[1;32m    157\u001b[0m     check_row_type \u001b[38;5;241m=\u001b[39m \u001b[38;5;28mself\u001b[39m\u001b[38;5;241m.\u001b[39m_check_dict_row_type\n\u001b[0;32m--> 159\u001b[0m \u001b[38;5;28;01mreturn\u001b[39;00m \u001b[38;5;28;43mself\u001b[39;49m\u001b[38;5;241;43m.\u001b[39;49m\u001b[43m_pure_mutate_dicts_to_rows\u001b[49m\u001b[43m(\u001b[49m\n\u001b[1;32m    160\u001b[0m \u001b[43m    \u001b[49m\u001b[43mdata\u001b[49m\u001b[43m,\u001b[49m\n\u001b[1;32m    161\u001b[0m \u001b[43m    \u001b[49m\u001b[38;5;28;43mself\u001b[39;49m\u001b[38;5;241;43m.\u001b[39;49m\u001b[43mcolumns_with_types\u001b[49m\u001b[43m,\u001b[49m\n\u001b[1;32m    162\u001b[0m \u001b[43m    \u001b[49m\u001b[43mcheck_row_type\u001b[49m\u001b[43m,\u001b[49m\n\u001b[1;32m    163\u001b[0m \u001b[43m\u001b[49m\u001b[43m)\u001b[49m\n",
      "File \u001b[0;32m~/.cache/pypoetry/virtualenvs/assistant-YmmMni6z-py3.12/lib/python3.12/site-packages/clickhouse_driver/block.py:186\u001b[0m, in \u001b[0;36mRowOrientedBlock._pure_mutate_dicts_to_rows\u001b[0;34m(self, data, columns_with_types, check_row_type)\u001b[0m\n\u001b[1;32m    185\u001b[0m \u001b[38;5;28;01mif\u001b[39;00m cwt \u001b[38;5;129;01mis\u001b[39;00m \u001b[38;5;28;01mNone\u001b[39;00m:\n\u001b[0;32m--> 186\u001b[0m     new_data\u001b[38;5;241m.\u001b[39mappend(\u001b[43mrow\u001b[49m\u001b[43m[\u001b[49m\u001b[43mname\u001b[49m\u001b[43m]\u001b[49m)\n\u001b[1;32m    187\u001b[0m \u001b[38;5;28;01melse\u001b[39;00m:\n",
      "\u001b[0;31mKeyError\u001b[0m: 'text'",
      "\nThe above exception was the direct cause of the following exception:\n",
      "\u001b[0;31mRuntimeError\u001b[0m                              Traceback (most recent call last)",
      "File \u001b[0;32m~/.cache/pypoetry/virtualenvs/assistant-YmmMni6z-py3.12/lib/python3.12/site-packages/clickhouserag/rag/manager.py:101\u001b[0m, in \u001b[0;36mRAGManager.add_bulk_data\u001b[0;34m(self, data_list, vectorizer_name, vectorizer)\u001b[0m\n\u001b[1;32m    100\u001b[0m \u001b[38;5;28;01mtry\u001b[39;00m:\n\u001b[0;32m--> 101\u001b[0m     \u001b[38;5;28;43mself\u001b[39;49m\u001b[38;5;241;43m.\u001b[39;49m\u001b[43mtable_manager\u001b[49m\u001b[38;5;241;43m.\u001b[39;49m\u001b[43minsert\u001b[49m\u001b[43m(\u001b[49m\u001b[43mdata_list\u001b[49m\u001b[43m)\u001b[49m\n\u001b[1;32m    102\u001b[0m     \u001b[38;5;28mself\u001b[39m\u001b[38;5;241m.\u001b[39mlogger\u001b[38;5;241m.\u001b[39minfo(\u001b[38;5;124mf\u001b[39m\u001b[38;5;124m\"\u001b[39m\u001b[38;5;124mBulk data added with \u001b[39m\u001b[38;5;132;01m{\u001b[39;00m\u001b[38;5;28mlen\u001b[39m(data_list)\u001b[38;5;132;01m}\u001b[39;00m\u001b[38;5;124m records\u001b[39m\u001b[38;5;124m\"\u001b[39m)\n",
      "File \u001b[0;32m~/.cache/pypoetry/virtualenvs/assistant-YmmMni6z-py3.12/lib/python3.12/site-packages/clickhouserag/data_access/clickhouse_table.py:33\u001b[0m, in \u001b[0;36mClickhouseTableManager.insert\u001b[0;34m(self, values)\u001b[0m\n\u001b[1;32m     32\u001b[0m \u001b[38;5;28mself\u001b[39m\u001b[38;5;241m.\u001b[39mlogger\u001b[38;5;241m.\u001b[39merror(\u001b[38;5;124mf\u001b[39m\u001b[38;5;124m\"\u001b[39m\u001b[38;5;124mFailed to insert values into \u001b[39m\u001b[38;5;132;01m{\u001b[39;00m\u001b[38;5;28mself\u001b[39m\u001b[38;5;241m.\u001b[39mtable_name\u001b[38;5;132;01m}\u001b[39;00m\u001b[38;5;124m: \u001b[39m\u001b[38;5;132;01m{\u001b[39;00merr\u001b[38;5;132;01m}\u001b[39;00m\u001b[38;5;124m\"\u001b[39m)\n\u001b[0;32m---> 33\u001b[0m \u001b[38;5;28;01mraise\u001b[39;00m \u001b[38;5;167;01mRuntimeError\u001b[39;00m(\u001b[38;5;124mf\u001b[39m\u001b[38;5;124m\"\u001b[39m\u001b[38;5;124mFailed to insert values into \u001b[39m\u001b[38;5;132;01m{\u001b[39;00m\u001b[38;5;28mself\u001b[39m\u001b[38;5;241m.\u001b[39mtable_name\u001b[38;5;132;01m}\u001b[39;00m\u001b[38;5;124m\"\u001b[39m) \u001b[38;5;28;01mfrom\u001b[39;00m \u001b[38;5;21;01merr\u001b[39;00m\n",
      "\u001b[0;31mRuntimeError\u001b[0m: Failed to insert values into rag_table",
      "\nThe above exception was the direct cause of the following exception:\n",
      "\u001b[0;31mRuntimeError\u001b[0m                              Traceback (most recent call last)",
      "Cell \u001b[0;32mIn[5], line 14\u001b[0m\n\u001b[1;32m      1\u001b[0m datas \u001b[38;5;241m=\u001b[39m [\n\u001b[1;32m      2\u001b[0m     {\u001b[38;5;124m\"\u001b[39m\u001b[38;5;124mid\u001b[39m\u001b[38;5;124m\"\u001b[39m: \u001b[38;5;241m1\u001b[39m, \u001b[38;5;124m\"\u001b[39m\u001b[38;5;124mtitle\u001b[39m\u001b[38;5;124m\"\u001b[39m: \u001b[38;5;124m\"\u001b[39m\u001b[38;5;124mНож раскаленный на 1000 градусов против моего друга\u001b[39m\u001b[38;5;124m\"\u001b[39m, \u001b[38;5;124m\"\u001b[39m\u001b[38;5;124mchunk\u001b[39m\u001b[38;5;124m\"\u001b[39m: \u001b[38;5;124m\"\u001b[39m\u001b[38;5;124mНож раскаленный на 1000 градусов против моего друга\u001b[39m\u001b[38;5;124m\"\u001b[39m},\n\u001b[1;32m      3\u001b[0m     {\u001b[38;5;124m\"\u001b[39m\u001b[38;5;124mid\u001b[39m\u001b[38;5;124m\"\u001b[39m: \u001b[38;5;241m2\u001b[39m, \u001b[38;5;124m\"\u001b[39m\u001b[38;5;124mtitle\u001b[39m\u001b[38;5;124m\"\u001b[39m: \u001b[38;5;124m\"\u001b[39m\u001b[38;5;124mПрыжок с крыши на батут — выживет ли?\u001b[39m\u001b[38;5;124m\"\u001b[39m, \u001b[38;5;124m\"\u001b[39m\u001b[38;5;124mchunk\u001b[39m\u001b[38;5;124m\"\u001b[39m: \u001b[38;5;124m\"\u001b[39m\u001b[38;5;124mПрыжок с крыши на батут — выживет ли?\u001b[39m\u001b[38;5;124m\"\u001b[39m},\n\u001b[0;32m   (...)\u001b[0m\n\u001b[1;32m     11\u001b[0m     {\u001b[38;5;124m\"\u001b[39m\u001b[38;5;124mid\u001b[39m\u001b[38;5;124m\"\u001b[39m: \u001b[38;5;241m10\u001b[39m, \u001b[38;5;124m\"\u001b[39m\u001b[38;5;124mtitle\u001b[39m\u001b[38;5;124m\"\u001b[39m: \u001b[38;5;124m\"\u001b[39m\u001b[38;5;124mРазоблачаем фокусы магов: вот как это работает!\u001b[39m\u001b[38;5;124m\"\u001b[39m, \u001b[38;5;124m\"\u001b[39m\u001b[38;5;124mchunk\u001b[39m\u001b[38;5;124m\"\u001b[39m: \u001b[38;5;124m\"\u001b[39m\u001b[38;5;124mРазоблачаем фокусы магов: вот как это работает!\u001b[39m\u001b[38;5;124m\"\u001b[39m}\n\u001b[1;32m     12\u001b[0m ]\n\u001b[0;32m---> 14\u001b[0m \u001b[43mrag_manager\u001b[49m\u001b[38;5;241;43m.\u001b[39;49m\u001b[43madd_bulk_data\u001b[49m\u001b[43m(\u001b[49m\u001b[43mdatas\u001b[49m\u001b[43m,\u001b[49m\u001b[43m \u001b[49m\u001b[43mvectorizer_name\u001b[49m\u001b[38;5;241;43m=\u001b[39;49m\u001b[38;5;124;43m\"\u001b[39;49m\u001b[38;5;124;43mtransformers\u001b[39;49m\u001b[38;5;124;43m\"\u001b[39;49m\u001b[43m)\u001b[49m\n",
      "File \u001b[0;32m~/.cache/pypoetry/virtualenvs/assistant-YmmMni6z-py3.12/lib/python3.12/site-packages/clickhouserag/rag/manager.py:105\u001b[0m, in \u001b[0;36mRAGManager.add_bulk_data\u001b[0;34m(self, data_list, vectorizer_name, vectorizer)\u001b[0m\n\u001b[1;32m    103\u001b[0m \u001b[38;5;28;01mexcept\u001b[39;00m \u001b[38;5;167;01mException\u001b[39;00m \u001b[38;5;28;01mas\u001b[39;00m e:\n\u001b[1;32m    104\u001b[0m     \u001b[38;5;28mself\u001b[39m\u001b[38;5;241m.\u001b[39mlogger\u001b[38;5;241m.\u001b[39merror(\u001b[38;5;124mf\u001b[39m\u001b[38;5;124m\"\u001b[39m\u001b[38;5;124mFailed to add bulk data: \u001b[39m\u001b[38;5;132;01m{\u001b[39;00me\u001b[38;5;132;01m}\u001b[39;00m\u001b[38;5;124m\"\u001b[39m)\n\u001b[0;32m--> 105\u001b[0m     \u001b[38;5;28;01mraise\u001b[39;00m \u001b[38;5;167;01mRuntimeError\u001b[39;00m(\u001b[38;5;124m\"\u001b[39m\u001b[38;5;124mFailed to add bulk data\u001b[39m\u001b[38;5;124m\"\u001b[39m) \u001b[38;5;28;01mfrom\u001b[39;00m \u001b[38;5;21;01me\u001b[39;00m\n",
      "\u001b[0;31mRuntimeError\u001b[0m: Failed to add bulk data"
     ]
    }
   ],
   "source": [
    "datas = [\n",
    "    {\"id\": 1, \"title\": \"Нож раскаленный на 1000 градусов против моего друга\", \"chunk\": \"Нож раскаленный на 1000 градусов против моего друга\"},\n",
    "    {\"id\": 2, \"title\": \"Прыжок с крыши на батут — выживет ли?\", \"chunk\": \"Прыжок с крыши на батут — выживет ли?\"},\n",
    "    {\"id\": 3, \"title\": \"Я потратил $10 000 на это! Не повторяйте!\", \"chunk\": \"Я потратил $10 000 на это! Не повторяйте!\"},\n",
    "    {\"id\": 4, \"title\": \"10 способов выжить в пустыне. Это реально!\", \"chunk\": \"10 способов выжить в пустыне. Это реально!\"},\n",
    "    {\"id\": 5, \"title\": \"Попробуй не смеяться: самые смешные моменты!\", \"chunk\": \"Попробуй не смеяться: самые смешные моменты!\"},\n",
    "    {\"id\": 6, \"title\": \"Что произойдет, если не спать 72 часа?\", \"chunk\": \"Что произойдет, если не спать 72 часа?\"},\n",
    "    {\"id\": 7, \"title\": \"Я съел 50 гамбургеров за один час! Реально ли?\", \"chunk\": \"Я съел 50 гамбургеров за один час! Реально ли?\"},\n",
    "    {\"id\": 8, \"title\": \"Секреты миллионеров, которые ты не знал!\", \"chunk\": \"Секреты миллионеров, которые ты не знал!\"},\n",
    "    {\"id\": 9, \"title\": \"Мой друг прыгнул с парашютом... и вот что случилось\", \"chunk\": \"Мой друг прыгнул с парашютом... и вот что случилось\"},\n",
    "    {\"id\": 10, \"title\": \"Разоблачаем фокусы магов: вот как это работает!\", \"chunk\": \"Разоблачаем фокусы магов: вот как это работает!\"}\n",
    "]\n",
    "\n",
    "rag_manager.add_bulk_data(datas, vectorizer_name=\"transformers\")"
   ]
  },
  {
   "cell_type": "code",
   "execution_count": null,
   "metadata": {},
   "outputs": [],
   "source": []
  }
 ],
 "metadata": {
  "kernelspec": {
   "display_name": "assistant-YmmMni6z-py3.12",
   "language": "python",
   "name": "python3"
  },
  "language_info": {
   "codemirror_mode": {
    "name": "ipython",
    "version": 3
   },
   "file_extension": ".py",
   "mimetype": "text/x-python",
   "name": "python",
   "nbconvert_exporter": "python",
   "pygments_lexer": "ipython3",
   "version": "3.12.4"
  }
 },
 "nbformat": 4,
 "nbformat_minor": 2
}
